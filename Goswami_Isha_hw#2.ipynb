{
  "nbformat": 4,
  "nbformat_minor": 0,
  "metadata": {
    "colab": {
      "provenance": []
    },
    "kernelspec": {
      "name": "python3",
      "display_name": "Python 3"
    },
    "language_info": {
      "name": "python"
    }
  },
  "cells": [
    {
      "cell_type": "markdown",
      "source": [
        "# Homework 2: Biogeography"
      ],
      "metadata": {
        "id": "F05W_4U1s3Jg"
      }
    },
    {
      "cell_type": "markdown",
      "source": [
        "#### **Please read the following instructions carefully before you continue.**\n",
        "\n",
        "This template notebook is for Homework 2, due Thursday, April 18th, 2024.\n",
        "\n",
        "To use this template, click `File` > `Save a copy in Drive`. You now have your own editable copy to which you can add your code. However, before you make changes, note that we've scaffolded this notebook to help get you started:\n",
        "\n",
        "- We've already written `import` statements for all the modules you should need. This week, you could feasibly do everything without importing any external modules; do whatever is most helpful for you.\n",
        "- We provide an introduction that lays out one potential approach for solving the problem, explaining what each logical \"chunk\" of your code ought to accomplish. You can use this as a starting point for writing your own code.  \n",
        "\n",
        "Of course, if you'd rather do your own thing, you are not required to follow the path we've laid out, or use the modules we've recommended. However, a few things _are_ required (refer to the [Intro to Colab](https://colab.research.google.com/drive/1fq_HaiuYb1L18uGcoA3eGs6taiUafR-6?usp=sharing) notebook):\n",
        "\n",
        "- _Literate style._ Dumping everything into a single, monstrous code cell is illegible and unacceptable. Remember to divide your code into reasonable, logical chunks, and to follow up each code cell with a text cell that explains and interprets the results.\n",
        "- _Comments._ That said, writing \"literate\" code is not an excuse to avoid writing comments :)\n",
        "- _Problem labels/numbers._ Please use text cells to clearly label where your solution to one problem ends, and the next begins.\n",
        "\n",
        "Remember that a human is going to read and grade your notebook, so it is in your best interest to help them understand your work clearly. Your finished solution to a given problem should flow coherently from one code cell to the next. (Our \"scaffold\" helps you do this!)\n",
        "\n",
        "If you get stuck, remember that [tutorials](https://bi1.caltech.edu/2024/tutorials) are held in-person each week. Also, note that in accordance with course policy, [the use of generative AI tools is forbidden](https://bi1.caltech.edu/2024/policies) unless otherwise specified."
      ],
      "metadata": {
        "id": "un9uDerZW6Qt"
      }
    },
    {
      "cell_type": "markdown",
      "source": [
        "---"
      ],
      "metadata": {
        "id": "P1qG5PeMZV7X"
      }
    },
    {
      "cell_type": "code",
      "source": [
        "import numpy as np  # numeric computing"
      ],
      "metadata": {
        "id": "JYA-RnWCaiPA"
      },
      "execution_count": null,
      "outputs": []
    },
    {
      "cell_type": "markdown",
      "source": [
        "---"
      ],
      "metadata": {
        "id": "5NjmrmdvaibF"
      }
    },
    {
      "cell_type": "markdown",
      "source": [
        "## Introduction"
      ],
      "metadata": {
        "id": "TwHJZJyUNC5A"
      }
    },
    {
      "cell_type": "markdown",
      "source": [
        "This week's code problem comes from Question 2a, which asks you to compare DNA sequence similarity between species of African grassland frogs.\n",
        "\n",
        "- First, you need to read in the text files we've provided, and store the sequences in a variable, list, or other data structure. This might start like\n",
        "```python\n",
        "with open(path_to_file) as file:  # read in one of the fasta files\n",
        "    for line in file:  # parse each line\n",
        "        # find sequences and extract them\n",
        "```\n",
        "\n",
        "- Then, you should define a function that accepts two DNA sequences and scores their similarity. This might start like\n",
        "```python\n",
        "def simDNA(seq1, seq2):\n",
        "    \"\"\"This is a function that computes a similarity score between two aligned DNA sequences.\"\"\"\n",
        "    # your code here\n",
        "```\n",
        "- After checking that it works as expected, you can then incorporate that function into a `for` loop (or perhaps several) that applies it to every group of sequences that the problem statement asks you to."
      ],
      "metadata": {
        "id": "GmlaCoQMNIUY"
      }
    },
    {
      "cell_type": "markdown",
      "source": [
        "## Question 2a"
      ],
      "metadata": {
        "id": "qziKM1-MZYks"
      }
    },
    {
      "cell_type": "code",
      "source": [
        "\"\"\"\n",
        "Defining the simDNA function that calculates the similarity between two DNA\n",
        "sequences based on the calculation scheme outlined in the homework problem\n",
        "\"\"\"\n",
        "def simDNA(seq1, seq2):\n",
        "  if(len(seq1) != len(seq2)):\n",
        "    print(\"Seqences must have the same length\")\n",
        "    return\n",
        "  numSame = 0.0\n",
        "  totNum = 0.0\n",
        "  for i in range(len(seq1)):\n",
        "    if((seq1[i] != '-') and (seq2[i] != '-')):\n",
        "      totNum +=1\n",
        "\n",
        "      if(seq1[i] == seq2[i]):\n",
        "        numSame +=1\n",
        "\n",
        "  return (numSame/totNum)"
      ],
      "metadata": {
        "id": "j_4B6FCwSzn5"
      },
      "execution_count": null,
      "outputs": []
    },
    {
      "cell_type": "code",
      "source": [
        " \"\"\"\n",
        " Defining the readFile function that reads each of the data files and stores\n",
        " the names of the frogs and their corresponding DNA sequence in a 2D-list.\n",
        " Each element of the list has two elements: the frog type and its DNA sequence.\n",
        "\"\"\"\n",
        "def readFile(filename):\n",
        "  listFrogs = []\n",
        "\n",
        "  with open(filename, 'r') as file:\n",
        "    seq = \"\"\n",
        "    name = \"\"\n",
        "    for line in file:\n",
        "      if(line[0] == '>' and seq == \"\"):\n",
        "        name = line.strip('\\n')\n",
        "      elif(line[0] == '>' and name != \"\"):\n",
        "        listFrogs.append([name, seq])\n",
        "        name = line.strip('\\n')\n",
        "        seq = \"\"\n",
        "      else:\n",
        "        seq += line.strip('\\n')\n",
        "\n",
        "  listFrogs.append([name, seq])\n",
        "  return listFrogs"
      ],
      "metadata": {
        "id": "uZJHq3beVXdM"
      },
      "execution_count": null,
      "outputs": []
    },
    {
      "cell_type": "code",
      "source": [
        "\"\"\"\n",
        "Set the 2D list for the names and DNA sequences of the Africa frogs and the\n",
        "Sao Tome frogs. Also create the empty list of highest match scores.\n",
        "\"\"\"\n",
        "africaFrogs = readFile(\"frogs_africa.txt\")\n",
        "STFrogs = readFile(\"frogs_st.txt\")\n",
        "SThigh = []\n",
        "SThighnames = []\n",
        "\n",
        "finalResult = {}\n",
        "k = 1\n",
        "for j in STFrogs:\n",
        "  result = {}\n",
        "  for i in africaFrogs:\n",
        "    val = simDNA(i[1], j[1])\n",
        "    result[val] = i[0]\n",
        "  finalResult[j[0]] = result\n",
        "\n",
        "  for m, n in finalResult.items():\n",
        "    print(\"For Sao Tome frog sample \", k, \", the most to least matching African frogs are: \\n\")\n",
        "    k+=1\n",
        "    index = 0\n",
        "    for x,y in sorted(n.items(), reverse=True):\n",
        "      print(x, \": \", y,\"\\n\")\n"
      ],
      "metadata": {
        "colab": {
          "base_uri": "https://localhost:8080/"
        },
        "id": "GXMka8iFHfon",
        "outputId": "18fdc2f1-d42a-4ea1-9d09-669d8b3e2a6a"
      },
      "execution_count": null,
      "outputs": [
        {
          "output_type": "stream",
          "name": "stdout",
          "text": [
            "For Sao Tome frog sample  1 , the most to least matching African frogs are: \n",
            "\n",
            "0.950592885375494 :  >Ptychadena nilotica, Tanzania, Kibebe farm \n",
            "\n",
            "0.9483747609942639 :  >Ptychadena nilotica, Uganda, Lake Victoria \n",
            "\n",
            "0.9464627151051626 :  >Ptychadena nilotica, Kenya, Mt Kenya \n",
            "\n",
            "0.945010183299389 :  >Ptychadena nilotica, Kenya, Taita Hills \n",
            "\n",
            "0.9445506692160612 :  >Ptychadena nilotica, Kenya, Makuru \n",
            "\n",
            "0.9429175475687104 :  >Ptychadena nilotica, Kenya, Taita Hills \n",
            "\n",
            "0.9329501915708812 :  >Ptychadena aff. mascareniensis, Uganda, Kampala \n",
            "\n",
            "0.921455938697318 :  >Ptychadena aff. mascareniensis, Guinea \n",
            "\n",
            "0.9184652278177458 :  >Ptychadena aff. mascareniensis, Central African Republic, Dzanga-Sangha Reserve \n",
            "\n",
            "0.9176245210727969 :  >Ptychadena mascareniensis, Madagascar, Nahampoana \n",
            "\n",
            "0.9022988505747126 :  >Ptychadena taenioscelis, Kenya, Kakamega \n",
            "\n",
            "0.875 :  >Ptychadena sp., Tanzania, Mikumi \n",
            "\n",
            "0.869757174392936 :  >Ptychadena pumilio, Guinea, Mont Bero \n",
            "\n",
            "0.862 :  >Ptychadena aff. uzungwensis, Tanzania, Njombe \n",
            "\n",
            "0.8568627450980392 :  >Ptychadena porosissima, Tanzania, Mumba \n",
            "\n",
            "0.8541266794625719 :  >Ptychadena oxyrhynchus, Malawi \n",
            "\n",
            "0.8483685220729367 :  >Ptychadena oxyrhynchus, South Africa, Kwambonambi \n",
            "\n",
            "0.8480769230769231 :  >Ptychadena mahnerti, Kenya, Mt Kenya \n",
            "\n",
            "0.8478260869565217 :  >Ptychadena aff. aequiplicata, Cameroon, Dja Reserve \n",
            "\n",
            "0.8461538461538461 :  >Ptychadena anchietae, Somalia, Karin, Bari Region \n",
            "\n",
            "0.8455598455598455 :  >Ptychadena anchietae, South Africa, Mtunzini \n",
            "\n",
            "0.8436781609195402 :  >Ptychadena anchietae, Kenya, Kararacha Pond \n",
            "\n",
            "0.8415841584158416 :  >Ptychadena anchietae, Somalia, Karin, Bari Region \n",
            "\n",
            "0.8313725490196079 :  >Ptychadena aff. porosissima, Tanzania, Tatanda \n",
            "\n",
            "For Sao Tome frog sample  2 , the most to least matching African frogs are: \n",
            "\n",
            "0.950592885375494 :  >Ptychadena nilotica, Tanzania, Kibebe farm \n",
            "\n",
            "0.9486166007905138 :  >Ptychadena nilotica, Uganda, Lake Victoria \n",
            "\n",
            "0.9466403162055336 :  >Ptychadena nilotica, Kenya, Mt Kenya \n",
            "\n",
            "0.945010183299389 :  >Ptychadena nilotica, Kenya, Taita Hills \n",
            "\n",
            "0.9446640316205533 :  >Ptychadena nilotica, Kenya, Makuru \n",
            "\n",
            "0.9429175475687104 :  >Ptychadena nilotica, Kenya, Taita Hills \n",
            "\n",
            "0.9367588932806324 :  >Ptychadena aff. mascareniensis, Uganda, Kampala \n",
            "\n",
            "0.924901185770751 :  >Ptychadena aff. mascareniensis, Guinea \n",
            "\n",
            "0.9226932668329177 :  >Ptychadena aff. mascareniensis, Central African Republic, Dzanga-Sangha Reserve \n",
            "\n",
            "0.9189723320158103 :  >Ptychadena mascareniensis, Madagascar, Nahampoana \n",
            "\n",
            "0.9031620553359684 :  >Ptychadena taenioscelis, Kenya, Kakamega \n",
            "\n",
            "0.8774703557312253 :  >Ptychadena sp., Tanzania, Mikumi \n",
            "\n",
            "0.8672768878718535 :  >Ptychadena pumilio, Guinea, Mont Bero \n",
            "\n",
            "0.862 :  >Ptychadena aff. uzungwensis, Tanzania, Njombe \n",
            "\n",
            "0.8571428571428571 :  >Ptychadena porosissima, Tanzania, Mumba \n",
            "\n",
            "0.8554455445544554 :  >Ptychadena oxyrhynchus, Malawi \n",
            "\n",
            "0.8511904761904762 :  >Ptychadena mahnerti, Kenya, Mt Kenya \n",
            "\n",
            "0.8495049504950495 :  >Ptychadena oxyrhynchus, South Africa, Kwambonambi \n",
            "\n",
            "0.8478260869565217 :  >Ptychadena aff. aequiplicata, Cameroon, Dja Reserve \n",
            "\n",
            "0.8472222222222222 :  >Ptychadena anchietae, South Africa, Mtunzini \n",
            "\n",
            "0.8461538461538461 :  >Ptychadena anchietae, Somalia, Karin, Bari Region \n",
            "\n",
            "0.8436781609195402 :  >Ptychadena anchietae, Kenya, Kararacha Pond \n",
            "\n",
            "0.8415841584158416 :  >Ptychadena anchietae, Somalia, Karin, Bari Region \n",
            "\n",
            "0.8333333333333334 :  >Ptychadena aff. porosissima, Tanzania, Tatanda \n",
            "\n",
            "For Sao Tome frog sample  3 , the most to least matching African frogs are: \n",
            "\n",
            "0.950592885375494 :  >Ptychadena nilotica, Tanzania, Kibebe farm \n",
            "\n",
            "0.9483747609942639 :  >Ptychadena nilotica, Uganda, Lake Victoria \n",
            "\n",
            "0.9464627151051626 :  >Ptychadena nilotica, Kenya, Mt Kenya \n",
            "\n",
            "0.945010183299389 :  >Ptychadena nilotica, Kenya, Taita Hills \n",
            "\n",
            "0.9445506692160612 :  >Ptychadena nilotica, Kenya, Makuru \n",
            "\n",
            "0.9429175475687104 :  >Ptychadena nilotica, Kenya, Taita Hills \n",
            "\n",
            "0.9329501915708812 :  >Ptychadena aff. mascareniensis, Uganda, Kampala \n",
            "\n",
            "0.921455938697318 :  >Ptychadena aff. mascareniensis, Guinea \n",
            "\n",
            "0.9184652278177458 :  >Ptychadena aff. mascareniensis, Central African Republic, Dzanga-Sangha Reserve \n",
            "\n",
            "0.9176245210727969 :  >Ptychadena mascareniensis, Madagascar, Nahampoana \n",
            "\n",
            "0.9022988505747126 :  >Ptychadena taenioscelis, Kenya, Kakamega \n",
            "\n",
            "0.875 :  >Ptychadena sp., Tanzania, Mikumi \n",
            "\n",
            "0.869757174392936 :  >Ptychadena pumilio, Guinea, Mont Bero \n",
            "\n",
            "0.862 :  >Ptychadena aff. uzungwensis, Tanzania, Njombe \n",
            "\n",
            "0.8568627450980392 :  >Ptychadena porosissima, Tanzania, Mumba \n",
            "\n",
            "0.8541266794625719 :  >Ptychadena oxyrhynchus, Malawi \n",
            "\n",
            "0.8483685220729367 :  >Ptychadena oxyrhynchus, South Africa, Kwambonambi \n",
            "\n",
            "0.8480769230769231 :  >Ptychadena mahnerti, Kenya, Mt Kenya \n",
            "\n",
            "0.8478260869565217 :  >Ptychadena aff. aequiplicata, Cameroon, Dja Reserve \n",
            "\n",
            "0.8461538461538461 :  >Ptychadena anchietae, Somalia, Karin, Bari Region \n",
            "\n",
            "0.8455598455598455 :  >Ptychadena anchietae, South Africa, Mtunzini \n",
            "\n",
            "0.8436781609195402 :  >Ptychadena anchietae, Kenya, Kararacha Pond \n",
            "\n",
            "0.8415841584158416 :  >Ptychadena anchietae, Somalia, Karin, Bari Region \n",
            "\n",
            "0.8313725490196079 :  >Ptychadena aff. porosissima, Tanzania, Tatanda \n",
            "\n"
          ]
        }
      ]
    },
    {
      "cell_type": "markdown",
      "source": [],
      "metadata": {
        "id": "n8GofIi8OK8O"
      }
    },
    {
      "cell_type": "markdown",
      "source": [
        "_add text and code cells here_"
      ],
      "metadata": {
        "id": "x8EUPDzGTfZx"
      }
    },
    {
      "cell_type": "markdown",
      "source": [
        "For all of the types of Sao Tome frogs, the top 3 closest matching African Frogs are from Tanzania, Kibebe farm; Uganda, Lake Victoria; and Kenya, Mt. Kenya."
      ],
      "metadata": {
        "id": "8Fe7NHWf9Fb3"
      }
    },
    {
      "cell_type": "markdown",
      "source": [
        "---"
      ],
      "metadata": {
        "id": "Du6YvQPETo-g"
      }
    },
    {
      "cell_type": "markdown",
      "source": [
        "### Submission instructions"
      ],
      "metadata": {
        "id": "aJAscGKQIAnj"
      }
    },
    {
      "cell_type": "markdown",
      "source": [
        "When you're finished, recall the steps for submitting Colab notebooks:\n",
        "\n",
        "1. Run all the cells from top-to-bottom, in order (`Runtime` > `Run all`).\n",
        "2. Once the entire notebook has completed running and the output of all cells is visible, save it (`File` > `Save`).\n",
        "3. Download the notebook in `.ipynb` format (`File` > `Download` > `Download .ipynb`).\n",
        "4. Rename the file according to the usual convention (`lastname_firstname_hw#.ipynb`), if you haven't already.\n",
        "5. Upload the file to Gradescope.\n"
      ],
      "metadata": {
        "id": "mNiIL0tcIE-S"
      }
    }
  ]
}